{
  "nbformat": 4,
  "nbformat_minor": 0,
  "metadata": {
    "colab": {
      "name": "10/20/2021.ipynb",
      "provenance": [],
      "authorship_tag": "ABX9TyOdah7kJSez/wvCp5HG3ZGY",
      "include_colab_link": true
    },
    "kernelspec": {
      "name": "python3",
      "display_name": "Python 3"
    },
    "language_info": {
      "name": "python"
    }
  },
  "cells": [
    {
      "cell_type": "markdown",
      "metadata": {
        "id": "view-in-github",
        "colab_type": "text"
      },
      "source": [
        "<a href=\"https://colab.research.google.com/github/kcute121101/king.jpeg/blob/main/10_20_2021.ipynb\" target=\"_parent\"><img src=\"https://colab.research.google.com/assets/colab-badge.svg\" alt=\"Open In Colab\"/></a>"
      ]
    },
    {
      "cell_type": "markdown",
      "metadata": {
        "id": "c0sDnboKMpk-"
      },
      "source": [
        "Function\n",
        "\n",
        "\n"
      ]
    },
    {
      "cell_type": "code",
      "metadata": {
        "colab": {
          "base_uri": "https://localhost:8080/"
        },
        "id": "wSTleIdCQrWv",
        "outputId": "1f42a9ab-10a0-4068-889b-b0441f101b3b"
      },
      "source": [
        "def sum(i1, i2):\n",
        "    result = 0\n",
        "    for i in range(i1, i2):\n",
        "        result += i\n",
        "    return result\n",
        "\n",
        "def main():\n",
        "    print(\"Sum from 1 to 12 is\", sum(1, 12)) \n",
        "    print(\"Sum from 20 to 30 is\", sum(20, 30))\n",
        "    print(\"Sum from 35 to 40 is\", sum(35, 40))\n",
        "\n",
        "main() # Call the main function"
      ],
      "execution_count": 54,
      "outputs": [
        {
          "output_type": "stream",
          "name": "stdout",
          "text": [
            "Sum from 1 to 12 is 66\n",
            "Sum from 20 to 30 is 245\n",
            "Sum from 35 to 40 is 185\n"
          ]
        }
      ]
    },
    {
      "cell_type": "code",
      "metadata": {
        "colab": {
          "base_uri": "https://localhost:8080/"
        },
        "id": "1K-67ZKtQ7fv",
        "outputId": "be72a835-472e-4c60-dbff-bf79c5b90212"
      },
      "source": [
        "def swap(a,b):\n",
        "  a,b = b,a\n",
        "  return (a,b)\n",
        "\n",
        "if __name__ == '__main__':\n",
        "    x = 30\n",
        "    y = 31\n",
        "    print('x = %d,y = %d' % (x,y))\n",
        "    x,y = swap(x,y)\n",
        "    print('x = %d,y = %d' % (x,y))"
      ],
      "execution_count": 21,
      "outputs": [
        {
          "output_type": "stream",
          "name": "stdout",
          "text": [
            "x = 30,y = 31\n",
            "x = 31,y = 30\n"
          ]
        }
      ]
    },
    {
      "cell_type": "code",
      "metadata": {
        "colab": {
          "base_uri": "https://localhost:8080/"
        },
        "id": "gePBkU0-SHKL",
        "outputId": "f0b13271-a9d8-4d46-a2a3-3dc38973ca47"
      },
      "source": [
        "def sort(number1, number2, number3):\n",
        "       if (number1 < number2) and (number1 < number3):\n",
        "         if number2 < number3:\n",
        "           return number1, number2,number3\n",
        "         else:\n",
        "          return number1, number3, number2 \n",
        "       if (number2 < number1) and (number2 < number3):\n",
        "         if number1 < number3:\n",
        "           return number2, number1,number3\n",
        "         else:\n",
        "           return number2, number3,number1\n",
        "       if (number3 < number1) and (number3 < number2):\n",
        "         if number1 < number2:\n",
        "           return number3, number1,number2    \n",
        "         else:\n",
        "           return number3, number2, number1\n",
        "\n",
        "num1, num2, num3 = sort(40, 30, 20)\n",
        "\n",
        "print(\"num1 is \", num1)\n",
        "print(\"num2 is\", num2)\n",
        "print(\"num3 is\", num3)"
      ],
      "execution_count": 69,
      "outputs": [
        {
          "output_type": "stream",
          "name": "stdout",
          "text": [
            "num1 is  20\n",
            "num2 is 30\n",
            "num3 is 40\n"
          ]
        }
      ]
    },
    {
      "cell_type": "markdown",
      "metadata": {
        "id": "ONJNxy0pdtvh"
      },
      "source": [
        "Default argument\n"
      ]
    },
    {
      "cell_type": "code",
      "metadata": {
        "id": "O9bophaXdwUj"
      },
      "source": [
        "def printArea(width = 5, height = 6):\n",
        "    area = width * height\n",
        "    print(\"width:\", width, \"\\theight:\", height, \"\\tarea:\", area)"
      ],
      "execution_count": 81,
      "outputs": []
    },
    {
      "cell_type": "code",
      "metadata": {
        "id": "U6Te50Qagro7",
        "outputId": "4bc40e4d-6e70-43a1-dce8-2699da1d953f",
        "colab": {
          "base_uri": "https://localhost:8080/"
        }
      },
      "source": [
        "printArea()"
      ],
      "execution_count": 82,
      "outputs": [
        {
          "output_type": "stream",
          "name": "stdout",
          "text": [
            "width: 5 \theight: 6 \tarea: 30\n"
          ]
        }
      ]
    },
    {
      "cell_type": "code",
      "metadata": {
        "id": "37NoXAZvg1DQ",
        "outputId": "2b3cd36c-d0c4-4316-fce3-5514f760bbaf",
        "colab": {
          "base_uri": "https://localhost:8080/"
        }
      },
      "source": [
        "printArea(width = 5, height = 6)"
      ],
      "execution_count": 83,
      "outputs": [
        {
          "output_type": "stream",
          "name": "stdout",
          "text": [
            "width: 5 \theight: 6 \tarea: 30\n"
          ]
        }
      ]
    },
    {
      "cell_type": "code",
      "metadata": {
        "id": "h2un5EcchCOQ",
        "outputId": "276e3d55-cc0c-4d1f-a376-49c9069ba83f",
        "colab": {
          "base_uri": "https://localhost:8080/"
        }
      },
      "source": [
        "printArea(width = 6, height = 5)"
      ],
      "execution_count": 84,
      "outputs": [
        {
          "output_type": "stream",
          "name": "stdout",
          "text": [
            "width: 6 \theight: 5 \tarea: 30\n"
          ]
        }
      ]
    },
    {
      "cell_type": "code",
      "metadata": {
        "id": "KOUw-L_ohFwi",
        "outputId": "9a2ef30f-bbe8-4e6b-cfcc-efad5a3f2567",
        "colab": {
          "base_uri": "https://localhost:8080/"
        }
      },
      "source": [
        "printArea(5,6)"
      ],
      "execution_count": 85,
      "outputs": [
        {
          "output_type": "stream",
          "name": "stdout",
          "text": [
            "width: 5 \theight: 6 \tarea: 30\n"
          ]
        }
      ]
    },
    {
      "cell_type": "code",
      "metadata": {
        "id": "nc_OPIDvhM6Q",
        "outputId": "5d5391a1-f75a-4245-f79f-e2e03398a409",
        "colab": {
          "base_uri": "https://localhost:8080/"
        }
      },
      "source": [
        "printArea(6,5)"
      ],
      "execution_count": 86,
      "outputs": [
        {
          "output_type": "stream",
          "name": "stdout",
          "text": [
            "width: 6 \theight: 5 \tarea: 30\n"
          ]
        }
      ]
    },
    {
      "cell_type": "markdown",
      "metadata": {
        "id": "NbExynHKi6Gh"
      },
      "source": [
        "Lambda function"
      ]
    },
    {
      "cell_type": "code",
      "metadata": {
        "id": "XKN3UZXCi9D5",
        "outputId": "0e9cea8d-6fef-4239-a464-f80f2c894073",
        "colab": {
          "base_uri": "https://localhost:8080/"
        }
      },
      "source": [
        "f1 = lambda x, y, z: x+5*y+10*z\n",
        "print(f1(5,10,15))"
      ],
      "execution_count": 89,
      "outputs": [
        {
          "output_type": "stream",
          "name": "stdout",
          "text": [
            "205\n"
          ]
        }
      ]
    },
    {
      "cell_type": "code",
      "metadata": {
        "id": "yDI9D4QBjb8L",
        "outputId": "32658934-c20a-44bc-e79a-4f80d958f4c7",
        "colab": {
          "base_uri": "https://localhost:8080/"
        }
      },
      "source": [
        "def myfunc(m):\n",
        "    return m*m\n",
        "\n",
        "my_list = [10, 15, 20, 25, 30]\n",
        "\n",
        "\n",
        "print(list(map(lambda x:myfunc(x), my_list)))"
      ],
      "execution_count": 94,
      "outputs": [
        {
          "output_type": "stream",
          "name": "stdout",
          "text": [
            "[100, 225, 400, 625, 900]\n"
          ]
        }
      ]
    }
  ]
}