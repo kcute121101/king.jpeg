{
  "nbformat": 4,
  "nbformat_minor": 0,
  "metadata": {
    "colab": {
      "name": "Pythonconditionandif.2021",
      "provenance": [],
      "authorship_tag": "ABX9TyNBnfnTtK7J7vjA9SIii98E",
      "include_colab_link": true
    },
    "kernelspec": {
      "name": "python3",
      "display_name": "Python 3"
    },
    "language_info": {
      "name": "python"
    }
  },
  "cells": [
    {
      "cell_type": "markdown",
      "metadata": {
        "id": "view-in-github",
        "colab_type": "text"
      },
      "source": [
        "<a href=\"https://colab.research.google.com/github/kcute121101/king.jpeg/blob/main/Pythonconditionandif_2021.ipynb\" target=\"_parent\"><img src=\"https://colab.research.google.com/assets/colab-badge.svg\" alt=\"Open In Colab\"/></a>"
      ]
    },
    {
      "cell_type": "markdown",
      "metadata": {
        "id": "sIG-eO1hNL5d"
      },
      "source": [
        "Python Conditions and If Statements\n"
      ]
    },
    {
      "cell_type": "code",
      "metadata": {
        "id": "gy1rzkueNTx_"
      },
      "source": [
        "a = 25\n",
        "b = 25\n",
        "if b > a:\n",
        "  print(\"b is greater than a\")\n",
        "elif a == b:\n",
        "  print(\"a and b are equal\")"
      ],
      "execution_count": null,
      "outputs": []
    },
    {
      "cell_type": "code",
      "metadata": {
        "id": "XtxWm18XNY9_"
      },
      "source": [
        "a = 300\n",
        "b = 63\n",
        "if b > a:\n",
        "  print(\"b is greater than a\")\n",
        "elif a == b:\n",
        "  print(\"a and b are equal\")\n",
        "else:\n",
        "  print(\"a is greater than b\")"
      ],
      "execution_count": null,
      "outputs": []
    },
    {
      "cell_type": "code",
      "metadata": {
        "id": "_OASG4YBNcxO"
      },
      "source": [
        "a = 400\n",
        "b = 93\n",
        "if b > a:\n",
        "  print(\"b is greater than a\")\n",
        "else:\n",
        "  print(\"b is not greater than a\")"
      ],
      "execution_count": null,
      "outputs": []
    },
    {
      "cell_type": "markdown",
      "metadata": {
        "id": "QJTo2GCAURfv"
      },
      "source": [
        "Leap year"
      ]
    },
    {
      "cell_type": "code",
      "metadata": {
        "colab": {
          "base_uri": "https://localhost:8080/"
        },
        "id": "4qv2mUb3UW_c",
        "outputId": "40823db5-04aa-4da5-8ca8-f1e8eed806f0"
      },
      "source": [
        "year= eval(input(\"please input the year\"))\n",
        "\n",
        "if ((year%400==0) or (year%4==0 and year%100!=0)):\n",
        "  print(\"{0} is a leap year\".format(year))\n",
        "else:\n",
        "  print(\"{0} is not a leap year\".format(year))"
      ],
      "execution_count": 18,
      "outputs": [
        {
          "output_type": "stream",
          "name": "stdout",
          "text": [
            "please input the year2021\n",
            "2021 is not a leap year\n"
          ]
        }
      ]
    },
    {
      "cell_type": "markdown",
      "metadata": {
        "id": "nDPURglVWqhN"
      },
      "source": [
        "Python For Loops"
      ]
    },
    {
      "cell_type": "code",
      "metadata": {
        "colab": {
          "base_uri": "https://localhost:8080/"
        },
        "id": "7faQGmY6WyCE",
        "outputId": "7ae7fe32-6e63-4fb5-d31e-9fd0085a8cd9"
      },
      "source": [
        "fruits = [\"mango\", \"banana\", \"orange\"]\n",
        "for x in fruits:\n",
        "  print(x)\n",
        "  \n",
        "    "
      ],
      "execution_count": 19,
      "outputs": [
        {
          "output_type": "stream",
          "name": "stdout",
          "text": [
            "mango\n",
            "banana\n",
            "orange\n"
          ]
        }
      ]
    },
    {
      "cell_type": "markdown",
      "metadata": {
        "id": "7EdErqBhXlvj"
      },
      "source": [
        "Range\n"
      ]
    },
    {
      "cell_type": "code",
      "metadata": {
        "id": "u3C_E72DXoxn"
      },
      "source": [
        "for x in range(25):\n",
        "  if x == 4:\n",
        "   continue\n",
        "  print (x)\n",
        "\n"
      ],
      "execution_count": null,
      "outputs": []
    },
    {
      "cell_type": "code",
      "metadata": {
        "id": "0XuMQHtFbcc-"
      },
      "source": [
        "for x in range(24):\n",
        " if x%5 == 0:\n",
        "   continue\n",
        " print (x)"
      ],
      "execution_count": null,
      "outputs": []
    },
    {
      "cell_type": "markdown",
      "metadata": {
        "id": "evNAFZV-ck9S"
      },
      "source": [
        "Infinity loops/While Loops"
      ]
    },
    {
      "cell_type": "code",
      "metadata": {
        "id": "-UvLddG_cqJ4"
      },
      "source": [
        "i = 3\n",
        "while i < 6:\n",
        "  print(i)\n",
        "  if i == 3:\n",
        "     continue\n",
        "#     break\n",
        "\n",
        "  i *=3"
      ],
      "execution_count": null,
      "outputs": []
    }
  ]
}