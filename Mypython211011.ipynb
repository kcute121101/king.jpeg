{
  "nbformat": 4,
  "nbformat_minor": 0,
  "metadata": {
    "colab": {
      "name": "Mypython211011.ipynb",
      "provenance": [],
      "collapsed_sections": [
        "Yim5JG6IA0R5",
        "PeDCsRET2p2I",
        "VOMQ4pKo_ZyT",
        "IjsiXRMJXHNc",
        "namgFX7SDfrE",
        "kPd1IXWPYMhn",
        "NgXgvXTHF1yS",
        "-FxjDMfgZ5IH",
        "S764T8CKHFo2",
        "wJ2coKt5IDNy",
        "tkz-1bVHJgbY",
        "KzXbP8p1bQn7",
        "ARNUn3_hK6T0",
        "mAKHu2pcMt-u"
      ],
      "include_colab_link": true
    },
    "kernelspec": {
      "name": "python3",
      "display_name": "Python 3"
    },
    "language_info": {
      "name": "python"
    }
  },
  "cells": [
    {
      "cell_type": "markdown",
      "metadata": {
        "id": "view-in-github",
        "colab_type": "text"
      },
      "source": [
        "<a href=\"https://colab.research.google.com/github/kcute121101/king.jpeg/blob/main/Mypython211011.ipynb\" target=\"_parent\"><img src=\"https://colab.research.google.com/assets/colab-badge.svg\" alt=\"Open In Colab\"/></a>"
      ]
    },
    {
      "cell_type": "markdown",
      "metadata": {
        "id": "Yim5JG6IA0R5"
      },
      "source": [
        "### **Python Data Type**\n",
        "\n",
        "Date: 2021/10/11\n",
        "\n",
        "Name: King Phillip F. Flores\n",
        "\n",
        "王利普 - 4100E213"
      ]
    },
    {
      "cell_type": "markdown",
      "metadata": {
        "id": "PeDCsRET2p2I"
      },
      "source": [
        "# **Arithmetic Operators**"
      ]
    },
    {
      "cell_type": "code",
      "metadata": {
        "colab": {
          "base_uri": "https://localhost:8080/"
        },
        "id": "cAofKmk01rFG",
        "outputId": "46f71de1-c45d-445f-cf7d-c488624e4f97"
      },
      "source": [
        "a = 25 / 5\n",
        "a"
      ],
      "execution_count": 18,
      "outputs": [
        {
          "output_type": "execute_result",
          "data": {
            "text/plain": [
              "5.0"
            ]
          },
          "metadata": {},
          "execution_count": 18
        }
      ]
    },
    {
      "cell_type": "code",
      "metadata": {
        "colab": {
          "base_uri": "https://localhost:8080/"
        },
        "id": "Bz5Q0a2c3iuU",
        "outputId": "032b83a2-06be-47ea-8956-44150180e194"
      },
      "source": [
        "b = 25 - 5\n",
        "b"
      ],
      "execution_count": 16,
      "outputs": [
        {
          "output_type": "execute_result",
          "data": {
            "text/plain": [
              "20"
            ]
          },
          "metadata": {},
          "execution_count": 16
        }
      ]
    },
    {
      "cell_type": "code",
      "metadata": {
        "colab": {
          "base_uri": "https://localhost:8080/"
        },
        "id": "BL1Mskev3n4k",
        "outputId": "5138a7c6-9b9a-49b9-a058-cb18abe5a269"
      },
      "source": [
        "c = 25 * 5\n",
        "c"
      ],
      "execution_count": 13,
      "outputs": [
        {
          "output_type": "execute_result",
          "data": {
            "text/plain": [
              "125"
            ]
          },
          "metadata": {},
          "execution_count": 13
        }
      ]
    },
    {
      "cell_type": "code",
      "metadata": {
        "colab": {
          "base_uri": "https://localhost:8080/"
        },
        "id": "CLDyG6Q4Sx1Z",
        "outputId": "89b37bf2-7ef2-4824-ad0d-4b5fa91e73dd"
      },
      "source": [
        "d = 25 + 5 \n",
        "d"
      ],
      "execution_count": 14,
      "outputs": [
        {
          "output_type": "execute_result",
          "data": {
            "text/plain": [
              "30"
            ]
          },
          "metadata": {},
          "execution_count": 14
        }
      ]
    },
    {
      "cell_type": "markdown",
      "metadata": {
        "id": "VOMQ4pKo_ZyT"
      },
      "source": [
        "# **Logical Operators**"
      ]
    },
    {
      "cell_type": "code",
      "metadata": {
        "colab": {
          "base_uri": "https://localhost:8080/"
        },
        "id": "vJ4CE1q6CLM0",
        "outputId": "56e2fe68-3925-41d7-a773-05cddfc70a98"
      },
      "source": [
        "x = 2\n",
        "print (x < 5  or x > 25)"
      ],
      "execution_count": 24,
      "outputs": [
        {
          "output_type": "stream",
          "name": "stdout",
          "text": [
            "True\n"
          ]
        }
      ]
    },
    {
      "cell_type": "markdown",
      "metadata": {
        "id": "uoNfzNu2CjVb"
      },
      "source": [
        "x = 2\n",
        "\n",
        "(x < 5) FALSE |  (x > 25) FALSE \n",
        "\n",
        "[True] and [True] ==> True\n",
        "\n",
        "[True] and [False] ==> False \n",
        "\n",
        "[False] and [True] ==> False\n",
        "\n",
        "[False] and [False] ==> False"
      ]
    },
    {
      "cell_type": "code",
      "metadata": {
        "colab": {
          "base_uri": "https://localhost:8080/"
        },
        "id": "EbGgpy2WUrID",
        "outputId": "59fc85fb-f342-43ee-e643-0cdb4ab470a7"
      },
      "source": [
        "x = 7\n",
        "print (x < 4 or x > 8)"
      ],
      "execution_count": 25,
      "outputs": [
        {
          "output_type": "stream",
          "name": "stdout",
          "text": [
            "False\n"
          ]
        }
      ]
    },
    {
      "cell_type": "markdown",
      "metadata": {
        "id": "0gRA65-8UxVP"
      },
      "source": [
        "x = 7\n",
        "(x < 4) FALSE | (x > 8) FALSE\n",
        "\n",
        "[True] or [True] ==> True\n",
        "\n",
        "[True] or [False] ==> True\n",
        "\n",
        "[False] or [True] ==> True\n",
        "\n",
        "[False] or [False] ==> False"
      ]
    },
    {
      "cell_type": "markdown",
      "metadata": {
        "id": "IjsiXRMJXHNc"
      },
      "source": [
        "# **Built-In Funtions (bin Function)**"
      ]
    },
    {
      "cell_type": "code",
      "metadata": {
        "colab": {
          "base_uri": "https://localhost:8080/",
          "height": 35
        },
        "id": "ARItmbINXPw5",
        "outputId": "5573e6e3-a550-482a-90c3-cc1a42db4568"
      },
      "source": [
        "bin(5)"
      ],
      "execution_count": 26,
      "outputs": [
        {
          "output_type": "execute_result",
          "data": {
            "application/vnd.google.colaboratory.intrinsic+json": {
              "type": "string"
            },
            "text/plain": [
              "'0b101'"
            ]
          },
          "metadata": {},
          "execution_count": 26
        }
      ]
    },
    {
      "cell_type": "code",
      "metadata": {
        "colab": {
          "base_uri": "https://localhost:8080/"
        },
        "id": "Jq3tIdRiXUfY",
        "outputId": "9b9e75dc-a386-4d16-8a78-3893e4976b50"
      },
      "source": [
        "int(3)"
      ],
      "execution_count": 28,
      "outputs": [
        {
          "output_type": "execute_result",
          "data": {
            "text/plain": [
              "3"
            ]
          },
          "metadata": {},
          "execution_count": 28
        }
      ]
    },
    {
      "cell_type": "markdown",
      "metadata": {
        "id": "namgFX7SDfrE"
      },
      "source": [
        "# **String** **Data** **Type**"
      ]
    },
    {
      "cell_type": "code",
      "metadata": {
        "colab": {
          "base_uri": "https://localhost:8080/",
          "height": 35
        },
        "id": "UhZcO06TDuzb",
        "outputId": "05a98602-b9d6-4533-d1e7-a885db437c14"
      },
      "source": [
        "str3 = 'allow embedded \"double\" '\n",
        "str3"
      ],
      "execution_count": 37,
      "outputs": [
        {
          "output_type": "execute_result",
          "data": {
            "application/vnd.google.colaboratory.intrinsic+json": {
              "type": "string"
            },
            "text/plain": [
              "'allow embedded \"double\" '"
            ]
          },
          "metadata": {},
          "execution_count": 37
        }
      ]
    },
    {
      "cell_type": "markdown",
      "metadata": {
        "id": "kPd1IXWPYMhn"
      },
      "source": [
        "# **Operation on Strings**"
      ]
    },
    {
      "cell_type": "code",
      "metadata": {
        "colab": {
          "base_uri": "https://localhost:8080/"
        },
        "id": "0eF8xf96FKKq",
        "outputId": "8a176279-731b-4128-8174-b7c12bb5c83b"
      },
      "source": [
        "movie1 = 'Meteor garden'\n",
        "\n",
        "print(\"movie1[0]: \", movie1[1])"
      ],
      "execution_count": 41,
      "outputs": [
        {
          "output_type": "stream",
          "name": "stdout",
          "text": [
            "movie1[0]:  e\n"
          ]
        }
      ]
    },
    {
      "cell_type": "markdown",
      "metadata": {
        "id": "_7ha0oKsFj5J"
      },
      "source": [
        "\n",
        "movie1 = 'Meteor garden'\n",
        "\n",
        "movie1[0] ==> F\n",
        "\n",
        "movie1[1] ==> 4\n",
        "\n",
        "and so on"
      ]
    },
    {
      "cell_type": "markdown",
      "metadata": {
        "id": "NgXgvXTHF1yS"
      },
      "source": [
        "# **Slice Operation**"
      ]
    },
    {
      "cell_type": "code",
      "metadata": {
        "colab": {
          "base_uri": "https://localhost:8080/"
        },
        "id": "KPZYtourF7Yc",
        "outputId": "61f40dd7-4cb8-4f10-dec7-70bdd4b5dbca"
      },
      "source": [
        "b = \"Hello cutie\"\n",
        "print(b)\n"
      ],
      "execution_count": 44,
      "outputs": [
        {
          "output_type": "stream",
          "name": "stdout",
          "text": [
            "Hello cutie\n"
          ]
        }
      ]
    },
    {
      "cell_type": "code",
      "metadata": {
        "colab": {
          "base_uri": "https://localhost:8080/"
        },
        "id": "PIwqr67XGbU0",
        "outputId": "2876775e-9df5-43a9-b296-69034b764290"
      },
      "source": [
        "b = \"Hello cutie\"\n",
        "print(b)"
      ],
      "execution_count": 45,
      "outputs": [
        {
          "output_type": "stream",
          "name": "stdout",
          "text": [
            "Hello cutie\n"
          ]
        }
      ]
    },
    {
      "cell_type": "code",
      "metadata": {
        "colab": {
          "base_uri": "https://localhost:8080/"
        },
        "id": "ayQiM5BZGi5G",
        "outputId": "5ac51681-6af9-4172-d2dc-a3665190ee86"
      },
      "source": [
        "b = \"Hello cutie\"\n",
        "print (b)"
      ],
      "execution_count": 43,
      "outputs": [
        {
          "output_type": "stream",
          "name": "stdout",
          "text": [
            "\n"
          ]
        }
      ]
    },
    {
      "cell_type": "code",
      "metadata": {
        "id": "jEEoWJudGtsj"
      },
      "source": [
        "b = \"Hello cutie\"\n",
        "print (b)"
      ],
      "execution_count": null,
      "outputs": []
    },
    {
      "cell_type": "markdown",
      "metadata": {
        "id": "-FxjDMfgZ5IH"
      },
      "source": [
        "## **Python capitalize() Method**"
      ]
    },
    {
      "cell_type": "code",
      "metadata": {
        "colab": {
          "base_uri": "https://localhost:8080/"
        },
        "id": "Fqxz-ALgZ9J6",
        "outputId": "89249ea7-57c2-4a38-9c0f-46601b6b43fb"
      },
      "source": [
        "x = 'Hello and welcome to my world cutie'\n",
        "y = x\n",
        "print(x)\n"
      ],
      "execution_count": 46,
      "outputs": [
        {
          "output_type": "stream",
          "name": "stdout",
          "text": [
            "Hello and welcome to my world cutie\n"
          ]
        }
      ]
    },
    {
      "cell_type": "markdown",
      "metadata": {
        "id": "S764T8CKHFo2"
      },
      "source": [
        "# **Python capitalize() Method** "
      ]
    },
    {
      "cell_type": "code",
      "metadata": {
        "colab": {
          "base_uri": "https://localhost:8080/"
        },
        "id": "PQn9UqOlHMnR",
        "outputId": "303a9e54-f6ef-4f8d-f790-b1a237c23e74"
      },
      "source": [
        "dog = \"arf\"\n",
        "x = dog()\n",
        "print (x)"
      ],
      "execution_count": 48,
      "outputs": [
        {
          "output_type": "stream",
          "name": "stdout",
          "text": [
            "Arf\n"
          ]
        }
      ]
    },
    {
      "cell_type": "markdown",
      "metadata": {
        "id": "wJ2coKt5IDNy"
      },
      "source": [
        "# **Python join() Method**"
      ]
    },
    {
      "cell_type": "code",
      "metadata": {
        "colab": {
          "base_uri": "https://localhost:8080/"
        },
        "id": "nyT3Sy37JFts",
        "outputId": "7bf9b10f-cc17-4404-a511-2c07e6f4ad47"
      },
      "source": [
        "character = (\"Daoming Si\" , \"Huaze Lei\" , \"Ximen yan\" , \"Feng Meizuo\")\n",
        "x = \"-\".join(character)\n",
        "print (x)"
      ],
      "execution_count": 66,
      "outputs": [
        {
          "output_type": "stream",
          "name": "stdout",
          "text": [
            "Daoming Si-Huaze Lei-Ximen yan-Feng Meizuo\n"
          ]
        }
      ]
    },
    {
      "cell_type": "markdown",
      "metadata": {
        "id": "tkz-1bVHJgbY"
      },
      "source": [
        "# **Python ljust() Method**"
      ]
    },
    {
      "cell_type": "code",
      "metadata": {
        "colab": {
          "base_uri": "https://localhost:8080/"
        },
        "id": "dTyf6lJfJo4Z",
        "outputId": "c2103617-bad8-4251-e505-c40fc8da2bdb"
      },
      "source": [
        "dog = \"arf\"\n",
        "x = (dog)\n",
        "print (x)"
      ],
      "execution_count": 65,
      "outputs": [
        {
          "output_type": "stream",
          "name": "stdout",
          "text": [
            "arf\n"
          ]
        }
      ]
    },
    {
      "cell_type": "markdown",
      "metadata": {
        "id": "ARNUn3_hK6T0"
      },
      "source": [
        "# **List Data Type**"
      ]
    },
    {
      "cell_type": "code",
      "metadata": {
        "colab": {
          "base_uri": "https://localhost:8080/"
        },
        "id": "HJlAL0WEK9eN",
        "outputId": "db3c757e-605f-4711-9e3a-9d19d69bc503"
      },
      "source": [
        "list1 = [14,17,8,7,11,13,9]\n",
        "list1 [3]"
      ],
      "execution_count": null,
      "outputs": [
        {
          "output_type": "execute_result",
          "data": {
            "text/plain": [
              "7"
            ]
          },
          "metadata": {},
          "execution_count": 49
        }
      ]
    },
    {
      "cell_type": "markdown",
      "metadata": {
        "id": "B-EWk4ptLSvI"
      },
      "source": [
        "list1 = [14,17,8,7,11,13,9]\n",
        "\n",
        "index of list\n",
        "\n",
        "list1 [0] ==> 14\n",
        "\n",
        "list1 [1] ==> 17\n",
        "\n",
        "and so on..."
      ]
    },
    {
      "cell_type": "markdown",
      "metadata": {
        "id": "RAJ1WEo9capF"
      },
      "source": [
        "# **List Slice Operation**"
      ]
    },
    {
      "cell_type": "code",
      "metadata": {
        "colab": {
          "base_uri": "https://localhost:8080/"
        },
        "id": "SXI6fm7rLhQy",
        "outputId": "745d6363-8fe5-4e02-81f8-4c1517c5be50"
      },
      "source": [
        "list1 = [14,17,8,7,11,13,9]\n",
        "list1 [2:5]"
      ],
      "execution_count": 83,
      "outputs": [
        {
          "output_type": "execute_result",
          "data": {
            "text/plain": [
              "[8, 7, 11]"
            ]
          },
          "metadata": {},
          "execution_count": 83
        }
      ]
    },
    {
      "cell_type": "markdown",
      "metadata": {
        "id": "mAKHu2pcMt-u"
      },
      "source": [
        "# **List Built-in Funtions**"
      ]
    },
    {
      "cell_type": "code",
      "metadata": {
        "id": "9aaibRS5Mmoc",
        "colab": {
          "base_uri": "https://localhost:8080/"
        },
        "outputId": "1ca9045a-7fa1-4572-e73b-83a1ff4f7b88"
      },
      "source": [
        "max(list1)"
      ],
      "execution_count": 87,
      "outputs": [
        {
          "output_type": "execute_result",
          "data": {
            "text/plain": [
              "17"
            ]
          },
          "metadata": {},
          "execution_count": 87
        }
      ]
    },
    {
      "cell_type": "code",
      "metadata": {
        "id": "C7fchyDdM15l",
        "colab": {
          "base_uri": "https://localhost:8080/"
        },
        "outputId": "a4c45a45-ac98-49df-d7f1-ebea3eaa6b4c"
      },
      "source": [
        "len(list1)"
      ],
      "execution_count": 88,
      "outputs": [
        {
          "output_type": "execute_result",
          "data": {
            "text/plain": [
              "7"
            ]
          },
          "metadata": {},
          "execution_count": 88
        }
      ]
    },
    {
      "cell_type": "markdown",
      "metadata": {
        "id": "sd14A8d8N4p6"
      },
      "source": [
        ""
      ]
    },
    {
      "cell_type": "markdown",
      "metadata": {
        "id": "ngKRhSwxN5wd"
      },
      "source": [
        "# **DICT Data Type**"
      ]
    },
    {
      "cell_type": "markdown",
      "metadata": {
        "id": "NyD-ien4c6kf"
      },
      "source": [
        "mydict = {'Name': 'Daoming Si', 'Age': '20', 'House': 'Taiwan'}\n",
        "\n",
        "==> 3 key-value pairs\n",
        "\n",
        "'Name': 'Daoming Si'\n",
        "\n",
        "\n",
        "\n",
        "\n",
        "'Age': '20'\n",
        "\n",
        "'House': 'Taiwan'\n",
        "\n",
        "separated by: , \n",
        "\n",
        "many key-value pairs\n"
      ]
    },
    {
      "cell_type": "code",
      "metadata": {
        "colab": {
          "base_uri": "https://localhost:8080/"
        },
        "id": "Z_IeXEcDN8e0",
        "outputId": "ac17acc1-369a-43b6-8b0d-f6b01c8058a5"
      },
      "source": [
        "mydict = {'Name': 'Daoming Si', 'Age': '20', 'House': 'Taiwan'}\n",
        "\n",
        "print (mydict)"
      ],
      "execution_count": 90,
      "outputs": [
        {
          "output_type": "stream",
          "name": "stdout",
          "text": [
            "{'Name': 'Daoming Si', 'Age': '20', 'House': 'Taiwan'}\n"
          ]
        }
      ]
    },
    {
      "cell_type": "code",
      "metadata": {
        "colab": {
          "base_uri": "https://localhost:8080/"
        },
        "id": "rfppn8IUOoUC",
        "outputId": "a217db69-4a8e-4259-d9e8-56f3afb2c80a"
      },
      "source": [
        "print (\"mydict['House']: \", mydict['House']) "
      ],
      "execution_count": 91,
      "outputs": [
        {
          "output_type": "stream",
          "name": "stdout",
          "text": [
            "mydict['House']:  Taiwan\n"
          ]
        }
      ]
    }
  ]
}